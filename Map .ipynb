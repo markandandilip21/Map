{
 "cells": [
  {
   "cell_type": "code",
   "execution_count": 2,
   "id": "b5b40a35",
   "metadata": {},
   "outputs": [
    {
     "name": "stdout",
     "output_type": "stream",
     "text": [
      "Enter numbers separated by spaces: 1 2 3 4 5 6 7\n",
      "Original numbers: [1, 2, 3, 4, 5, 6, 7]\n",
      "Triple of list numbers:\n",
      "[3, 6, 9, 12, 15, 18, 21]\n"
     ]
    }
   ],
   "source": [
    "def triple_numbers(numbers):\n",
    "    result = []\n",
    "    for num in numbers:\n",
    "        result.append(num * 3)\n",
    "    return result\n",
    "input_numbers = [int(x) for x in input(\"Enter numbers separated by spaces: \").split()]\n",
    "tripled_numbers = triple_numbers(input_numbers)\n",
    "print(\"Original numbers:\", input_numbers)\n",
    "print(\"Triple of list numbers:\")\n",
    "print(tripled_numbers)\n"
   ]
  },
  {
   "cell_type": "code",
   "execution_count": null,
   "id": "fa5c59fa",
   "metadata": {},
   "outputs": [],
   "source": []
  }
 ],
 "metadata": {
  "kernelspec": {
   "display_name": "Python 3 (ipykernel)",
   "language": "python",
   "name": "python3"
  },
  "language_info": {
   "codemirror_mode": {
    "name": "ipython",
    "version": 3
   },
   "file_extension": ".py",
   "mimetype": "text/x-python",
   "name": "python",
   "nbconvert_exporter": "python",
   "pygments_lexer": "ipython3",
   "version": "3.10.9"
  }
 },
 "nbformat": 4,
 "nbformat_minor": 5
}
